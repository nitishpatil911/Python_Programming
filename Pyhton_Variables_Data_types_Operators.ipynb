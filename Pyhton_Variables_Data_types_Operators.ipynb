{
  "nbformat": 4,
  "nbformat_minor": 0,
  "metadata": {
    "colab": {
      "provenance": []
    },
    "kernelspec": {
      "name": "python3",
      "display_name": "Python 3"
    },
    "language_info": {
      "name": "python"
    }
  },
  "cells": [
    {
      "cell_type": "code",
      "source": [
        "print(\" Hello World!\")"
      ],
      "metadata": {
        "colab": {
          "base_uri": "https://localhost:8080/"
        },
        "id": "NeofvFgXEoqb",
        "outputId": "bdcee7b9-63ed-48c6-e44d-442ef82e3bcb"
      },
      "execution_count": null,
      "outputs": [
        {
          "output_type": "stream",
          "name": "stdout",
          "text": [
            " Hello World!\n"
          ]
        }
      ]
    },
    {
      "cell_type": "markdown",
      "source": [
        "**Properties of Python**"
      ],
      "metadata": {
        "id": "igW3rPMQFZk-"
      }
    },
    {
      "cell_type": "markdown",
      "source": [
        "Python works on different platforms (Windows, Mac, Linux, Raspberry Pi, etc).\n",
        "\n",
        "Python has a simple syntax similar to the English language.\n",
        "\n",
        "Python has syntax that allows developers to write programs with fewer lines than some other programming languages.\n",
        "\n",
        "Python runs on an interpreter system, meaning that code can be executed as soon as it is written.\n",
        "\n",
        "Python can be treated in a procedural way, an object-oriented way or a functional way.\n",
        "\n",
        "Python relies on indentation, using whitespace, to define scope; such as the scope of loops, functions and classes.\n",
        "\n",
        "**Python is a case sensitive Language.**"
      ],
      "metadata": {
        "id": "StZHTNV1FoJ0"
      }
    },
    {
      "cell_type": "markdown",
      "source": [
        "**Python Variables**\n",
        "\n",
        "Variables are containers for storing data values.\n",
        "\n"
      ],
      "metadata": {
        "id": "m3k_XEJPGb9E"
      }
    },
    {
      "cell_type": "code",
      "source": [
        "x = 5\n",
        "y = \"Shiv\"\n",
        "print(x)\n",
        "print(y)"
      ],
      "metadata": {
        "colab": {
          "base_uri": "https://localhost:8080/"
        },
        "id": "kVfjifNDGVjb",
        "outputId": "60435941-b301-4c4f-bc13-cb927482eeb2"
      },
      "execution_count": null,
      "outputs": [
        {
          "output_type": "stream",
          "name": "stdout",
          "text": [
            "5\n",
            "Shiv\n"
          ]
        }
      ]
    },
    {
      "cell_type": "code",
      "source": [
        "#Variable names are case-sensitive."
      ],
      "metadata": {
        "id": "-mPiHDUDG22k"
      },
      "execution_count": null,
      "outputs": []
    },
    {
      "cell_type": "code",
      "source": [
        "a = 4\n",
        "A = \"Nitish\""
      ],
      "metadata": {
        "id": "agve-i7_Grzk"
      },
      "execution_count": null,
      "outputs": []
    },
    {
      "cell_type": "markdown",
      "source": [
        "**Rules for Python variables:**\n",
        "A variable name must start with a letter or the underscore character.\n",
        "\n",
        "A variable name cannot start with a number.\n",
        "\n",
        "A variable name can only contain alpha-numeric characters and underscores (A-z, 0-9, and _ )\n",
        "\n",
        "Variable names are case-sensitive (age, Age and AGE are three different variables)\n",
        "\n"
      ],
      "metadata": {
        "id": "wQXeIeWJHHH9"
      }
    },
    {
      "cell_type": "code",
      "source": [
        "#Legal variable names:\n",
        "myvar = \"Shiv\"\n",
        "my_var = \"Shiv\"\n",
        "_my_var = \"Shiv\"\n",
        "myVar = \"Shiv\"\n",
        "MYVAR = \"Shiv\"\n",
        "myvar2 = \"Shiv\""
      ],
      "metadata": {
        "id": "Jh6_GcpQG6eb"
      },
      "execution_count": null,
      "outputs": []
    },
    {
      "cell_type": "code",
      "source": [
        "#Illegal variable names:\n",
        "2myvar = \"John\"\n",
        "my-var = \"John\"\n",
        "my var = \"John\""
      ],
      "metadata": {
        "colab": {
          "base_uri": "https://localhost:8080/",
          "height": 110
        },
        "id": "07mZwE-PKVN8",
        "outputId": "b0a82581-7272-47e5-f354-99406983efcb"
      },
      "execution_count": null,
      "outputs": [
        {
          "output_type": "error",
          "ename": "SyntaxError",
          "evalue": "invalid decimal literal (ipython-input-3397427147.py, line 2)",
          "traceback": [
            "\u001b[0;36m  File \u001b[0;32m\"/tmp/ipython-input-3397427147.py\"\u001b[0;36m, line \u001b[0;32m2\u001b[0m\n\u001b[0;31m    2myvar = \"John\"\u001b[0m\n\u001b[0m    ^\u001b[0m\n\u001b[0;31mSyntaxError\u001b[0m\u001b[0;31m:\u001b[0m invalid decimal literal\n"
          ]
        }
      ]
    },
    {
      "cell_type": "code",
      "source": [
        "#Many Values to Multiple Variables\n",
        "x, y, z = \"Orange\", \"Banana\", \"Cherry\"\n",
        "print(x)\n",
        "print(y)\n",
        "print(z)"
      ],
      "metadata": {
        "colab": {
          "base_uri": "https://localhost:8080/"
        },
        "id": "esmK9aUHKatE",
        "outputId": "07069c25-ba0b-425e-e808-75dae5f39043"
      },
      "execution_count": null,
      "outputs": [
        {
          "output_type": "stream",
          "name": "stdout",
          "text": [
            "Orange\n",
            "Banana\n",
            "Cherry\n"
          ]
        }
      ]
    },
    {
      "cell_type": "code",
      "source": [
        "#Output Variables\n",
        "#The Python print() function is often used to output variables.\n",
        "x = \"Python is case sensitive language\"\n",
        "print(x)"
      ],
      "metadata": {
        "colab": {
          "base_uri": "https://localhost:8080/"
        },
        "id": "FbqHsSKNKpHE",
        "outputId": "4d917af5-569d-4a2c-c35b-b87512a0d5d1"
      },
      "execution_count": null,
      "outputs": [
        {
          "output_type": "stream",
          "name": "stdout",
          "text": [
            "Python is case sensitive language\n"
          ]
        }
      ]
    },
    {
      "cell_type": "markdown",
      "source": [
        "**Python Comments**"
      ],
      "metadata": {
        "id": "8Xy3DTl-LH7e"
      }
    },
    {
      "cell_type": "code",
      "source": [
        "#Comments starts with a #, and Python will ignore them"
      ],
      "metadata": {
        "id": "H_zJ1CFGK23c"
      },
      "execution_count": null,
      "outputs": []
    },
    {
      "cell_type": "code",
      "source": [
        "#Addition of 2 numbers\n",
        "a=2\n",
        "b=3\n",
        "c=a+b\n",
        "print(c)"
      ],
      "metadata": {
        "colab": {
          "base_uri": "https://localhost:8080/"
        },
        "id": "TCfeWVdOLbEc",
        "outputId": "f0df4b13-90c3-45ba-8bcf-0ea56a56ed48"
      },
      "execution_count": null,
      "outputs": [
        {
          "output_type": "stream",
          "name": "stdout",
          "text": [
            "5\n"
          ]
        }
      ]
    },
    {
      "cell_type": "code",
      "source": [
        "#Multiline Comments\n",
        "\"\"\"\n",
        "This is a comment\n",
        "written in\n",
        "more than one line\n",
        "\"\"\"\n",
        "print(\"Hello, World!\")"
      ],
      "metadata": {
        "colab": {
          "base_uri": "https://localhost:8080/"
        },
        "id": "H4AOWeVqLptj",
        "outputId": "fd181a2b-a8d7-43cf-a243-972ba5439b8f"
      },
      "execution_count": null,
      "outputs": [
        {
          "output_type": "stream",
          "name": "stdout",
          "text": [
            "Hello, World!\n"
          ]
        }
      ]
    },
    {
      "cell_type": "markdown",
      "source": [
        "**Python Numbers**\n",
        "\n",
        "There are three numeric types in Python:\n",
        "\n",
        "int\n",
        "\n",
        "float\n",
        "\n",
        "complex"
      ],
      "metadata": {
        "id": "z1CwHSa4MH7-"
      }
    },
    {
      "cell_type": "code",
      "source": [
        "x = 3   # int\n",
        "y = 3.8  # float\n",
        "z = 4+3j  # complex"
      ],
      "metadata": {
        "id": "AcLMxn5KL6Gs"
      },
      "execution_count": null,
      "outputs": []
    },
    {
      "cell_type": "code",
      "source": [
        "print(type(x))\n",
        "print(type(y))\n",
        "print(type(z))"
      ],
      "metadata": {
        "colab": {
          "base_uri": "https://localhost:8080/"
        },
        "id": "mHEEHDgoMqqk",
        "outputId": "6393dccc-5e7d-4c9e-8f4e-883f840a081a"
      },
      "execution_count": null,
      "outputs": [
        {
          "output_type": "stream",
          "name": "stdout",
          "text": [
            "<class 'int'>\n",
            "<class 'float'>\n",
            "<class 'complex'>\n"
          ]
        }
      ]
    },
    {
      "cell_type": "markdown",
      "source": [
        "**Python Data Types**\n",
        "Python has the following data types built-in by default, in these categories:\n",
        "\n",
        "Text Type:\tstr\n",
        "\n",
        "Numeric Types:\tint, float, complex\n",
        "\n",
        "Sequence Types:\tlist, tuple, range\n",
        "\n",
        "Mapping Type:\tdict\n",
        "\n",
        "Set Types:\tset\n",
        "\n",
        "Boolean Type:\tbool\n",
        "\n"
      ],
      "metadata": {
        "id": "dMqVpGGGNUkX"
      }
    },
    {
      "cell_type": "markdown",
      "source": [
        "x = \"Hello World\"\t str\n",
        "\n",
        "x = 20\t           int\n",
        "\n",
        "x = 20.5\t        float\n",
        "\n",
        "x = 1j\t          complex\n",
        "\n",
        "x = [\"apple\", \"banana\", \"cherry\"]\t   list\n",
        "\n",
        "x = (\"apple\", \"banana\", \"cherry\")\t   tuple\n",
        "\n",
        "x = range(6)\t                       range\n",
        "\n",
        "x = {\"name\" : \"John\", \"age\" : 36}\t    dict\n",
        "\n",
        "x = {\"apple\", \"banana\", \"cherry\"}\t    set"
      ],
      "metadata": {
        "id": "jPE2gXAiNqUe"
      }
    },
    {
      "cell_type": "markdown",
      "source": [
        "**Python Operators**\n",
        "Python divides the operators in the following groups:\n",
        "\n",
        "Arithmetic operators\n",
        "\n",
        "Assignment operators\n",
        "\n",
        "Comparison operators\n",
        "\n",
        "Logical operators\n",
        "\n",
        "Identity operators\n",
        "\n",
        "Membership operators\n",
        "\n",
        "Bitwise operators"
      ],
      "metadata": {
        "id": "LQRixD1hOR_N"
      }
    },
    {
      "cell_type": "markdown",
      "source": [
        "**Arithmetic operators**\n",
        "\n",
        "Addition\t      x + y\n",
        "\n",
        "Subtraction\t    x - y\n",
        "\n",
        "Multiplication\tx * y\n",
        "\n",
        "Division\t      x / y\n",
        "\n",
        "Modulus\t        x % y\n",
        "\n",
        "Exponentiation\tx ** y\n",
        "\n",
        "Floor division\tx // y"
      ],
      "metadata": {
        "id": "v7-hnGNuQaT2"
      }
    },
    {
      "cell_type": "code",
      "source": [
        "#Modulus x % y\n",
        "x = 5\n",
        "y = 2\n",
        "\n",
        "print(x % y)"
      ],
      "metadata": {
        "colab": {
          "base_uri": "https://localhost:8080/"
        },
        "id": "9q5SLf0XRst1",
        "outputId": "e135c69b-6c17-4fed-f81c-4473e9fc9835"
      },
      "execution_count": null,
      "outputs": [
        {
          "output_type": "stream",
          "name": "stdout",
          "text": [
            "1\n"
          ]
        }
      ]
    },
    {
      "cell_type": "code",
      "source": [
        "#Floor division x // y\n",
        "x = 15\n",
        "y = 2\n",
        "\n",
        "print(x // y)"
      ],
      "metadata": {
        "colab": {
          "base_uri": "https://localhost:8080/"
        },
        "id": "hvP0VlHRR3JV",
        "outputId": "20798ea7-6711-4e8d-aea7-bbf473d4eb7c"
      },
      "execution_count": null,
      "outputs": [
        {
          "output_type": "stream",
          "name": "stdout",
          "text": [
            "7\n"
          ]
        }
      ]
    },
    {
      "cell_type": "markdown",
      "source": [
        "**Assignment Operators**\n",
        "\n",
        "=\t   x = 5\t     x = 5\n",
        "\n",
        "+=\t x += 3\t  x = x + 3\n",
        "\n",
        "-=\t x -= 3\t  x = x - 3\n",
        "\n",
        "*=\t x *= 3\t  x = x * 3\n",
        "\n",
        "/=\t x /= 3\t  x = x / 3\n",
        "\n",
        "%=\t x %= 3\t  x = x % 3\n",
        "\n",
        "//=\t x //= 3  x = x // 3"
      ],
      "metadata": {
        "id": "UOkf4Zb4RFxP"
      }
    },
    {
      "cell_type": "code",
      "source": [
        "x = 5\n",
        "\n",
        "x += 3\n",
        "\n",
        "print(x)"
      ],
      "metadata": {
        "colab": {
          "base_uri": "https://localhost:8080/"
        },
        "id": "X9DG5EX7TQp2",
        "outputId": "6a21a3c0-091e-4220-de75-49e78ee93371"
      },
      "execution_count": null,
      "outputs": [
        {
          "output_type": "stream",
          "name": "stdout",
          "text": [
            "8\n"
          ]
        }
      ]
    },
    {
      "cell_type": "code",
      "source": [
        "x = 5\n",
        "\n",
        "x -= 3\n",
        "\n",
        "print(x)"
      ],
      "metadata": {
        "colab": {
          "base_uri": "https://localhost:8080/"
        },
        "id": "S9N1NOJWTZV2",
        "outputId": "faab0faf-2882-4d92-d4c4-3c9bd425f6c6"
      },
      "execution_count": null,
      "outputs": [
        {
          "output_type": "stream",
          "name": "stdout",
          "text": [
            "2\n"
          ]
        }
      ]
    },
    {
      "cell_type": "markdown",
      "source": [
        "**Comparison Operators**\n",
        "\n",
        "Equal\tx == y\n",
        "\n",
        "Not equal\tx != y\n",
        "\n",
        "Greater than\tx > y\n",
        "\n",
        "Less than\tx < y\n",
        "\n",
        "Greater than or equal to\tx >= y\n",
        "\n",
        "Less than or equal to\tx <= y"
      ],
      "metadata": {
        "id": "7Pf6dPNMRdT3"
      }
    },
    {
      "cell_type": "code",
      "source": [
        "x = 5\n",
        "y = 3\n",
        "\n",
        "print(x == y)"
      ],
      "metadata": {
        "colab": {
          "base_uri": "https://localhost:8080/"
        },
        "id": "DcCyvLA-M1t8",
        "outputId": "dd6f0e98-a7b6-44d8-ce7a-99be68356514"
      },
      "execution_count": null,
      "outputs": [
        {
          "output_type": "stream",
          "name": "stdout",
          "text": [
            "False\n"
          ]
        }
      ]
    },
    {
      "cell_type": "code",
      "source": [
        "x = 5\n",
        "y = 3\n",
        "\n",
        "print(x > y)\n"
      ],
      "metadata": {
        "colab": {
          "base_uri": "https://localhost:8080/"
        },
        "id": "M5Jb0ww6Tn4c",
        "outputId": "2e2bb5fb-35e2-4425-ac82-bfce21d42787"
      },
      "execution_count": null,
      "outputs": [
        {
          "output_type": "stream",
          "name": "stdout",
          "text": [
            "True\n"
          ]
        }
      ]
    },
    {
      "cell_type": "markdown",
      "source": [
        "**Logical Operators**\n",
        "\n",
        "and \t Returns True if both statements are true\tx < 5 and  x < 10\n",
        "\n",
        "\n",
        "or\t  Returns True if one of the statements is true\tx < 5 or x < 4\n",
        "\n",
        "\n",
        "not\t   Reverse the result, returns False if the result is true\n",
        "not(x < 5 and x < 10)"
      ],
      "metadata": {
        "id": "_IrogQxUTxZl"
      }
    },
    {
      "cell_type": "code",
      "source": [
        "x = 5\n",
        "\n",
        "print(x > 3 and x < 10)\n"
      ],
      "metadata": {
        "colab": {
          "base_uri": "https://localhost:8080/"
        },
        "id": "tRxlzel_Tro9",
        "outputId": "4afcf5fe-ba83-4a6a-e848-77909a5d5a1e"
      },
      "execution_count": null,
      "outputs": [
        {
          "output_type": "stream",
          "name": "stdout",
          "text": [
            "True\n"
          ]
        }
      ]
    },
    {
      "cell_type": "code",
      "source": [
        "x = 5\n",
        "\n",
        "print(x > 3 or x < 4)"
      ],
      "metadata": {
        "colab": {
          "base_uri": "https://localhost:8080/"
        },
        "id": "8tNs9lPgUZU1",
        "outputId": "67a9861e-a4f9-4ab8-886b-00c650016047"
      },
      "execution_count": null,
      "outputs": [
        {
          "output_type": "stream",
          "name": "stdout",
          "text": [
            "True\n"
          ]
        }
      ]
    },
    {
      "cell_type": "code",
      "source": [
        "x = 5\n",
        "\n",
        "print(not(x > 3 and x < 10))\n"
      ],
      "metadata": {
        "colab": {
          "base_uri": "https://localhost:8080/"
        },
        "id": "HH511-XpUhAs",
        "outputId": "b1bf941e-97b1-4320-91ce-9de33e111d49"
      },
      "execution_count": null,
      "outputs": [
        {
          "output_type": "stream",
          "name": "stdout",
          "text": [
            "False\n"
          ]
        }
      ]
    },
    {
      "cell_type": "markdown",
      "source": [
        "**Identity Operators**\n",
        "\n",
        "**is**    \t  Returns True if both variables are the same object\tx is y\n",
        "\n",
        "**is not**\t  Returns True if both variables are not the same object\tx is not y"
      ],
      "metadata": {
        "id": "7AV3Hff9U9Tu"
      }
    },
    {
      "cell_type": "code",
      "source": [
        "x = [\"apple\", \"banana\"]\n",
        "y = [\"apple\", \"banana\"]\n",
        "z = x\n",
        "\n",
        "print(x is z)"
      ],
      "metadata": {
        "colab": {
          "base_uri": "https://localhost:8080/"
        },
        "id": "Eeqcv6RJVdbY",
        "outputId": "8788d32b-5885-4a5e-fa07-1fcafa27462c"
      },
      "execution_count": null,
      "outputs": [
        {
          "output_type": "stream",
          "name": "stdout",
          "text": [
            "True\n"
          ]
        }
      ]
    },
    {
      "cell_type": "code",
      "source": [
        "x = [\"apple\", \"banana\"]\n",
        "y = [\"apple\", \"banana\"]\n",
        "print(x is y)"
      ],
      "metadata": {
        "colab": {
          "base_uri": "https://localhost:8080/"
        },
        "id": "f_zSZAwVV65e",
        "outputId": "28359478-b454-4d3b-ad66-f90922c9c858"
      },
      "execution_count": null,
      "outputs": [
        {
          "output_type": "stream",
          "name": "stdout",
          "text": [
            "False\n"
          ]
        }
      ]
    },
    {
      "cell_type": "code",
      "source": [
        "x = [\"apple\", \"banana\"]\n",
        "y = [\"apple\", \"banana\"]\n",
        "print(x == y)"
      ],
      "metadata": {
        "colab": {
          "base_uri": "https://localhost:8080/"
        },
        "id": "S7JDJITPUsIl",
        "outputId": "ed8e5588-823c-4ad1-a0a1-2ed1b7a1d31e"
      },
      "execution_count": null,
      "outputs": [
        {
          "output_type": "stream",
          "name": "stdout",
          "text": [
            "True\n"
          ]
        }
      ]
    },
    {
      "cell_type": "markdown",
      "source": [
        "**Bitwise Operators**\n",
        "\n",
        "& \t AND\t Sets each bit to 1 if both bits are 1\t            x & y\n",
        "\n",
        "|\t   OR\t Sets each bit to 1 if one of two bits is 1   \t      x | y\n",
        "\n",
        "^\t   XOR\t Sets each bit to 1 if only one of two bits is 1\t   x ^ y\n",
        "\n",
        "~\t   NOT\t Inverts all the bits                              \t ~x"
      ],
      "metadata": {
        "id": "t6F271tccwxp"
      }
    },
    {
      "cell_type": "markdown",
      "source": [
        "**Operator Precedence**\n",
        "()\tParentheses\n",
        "\n",
        "**\tExponentiation\n",
        "\n",
        "+x  -x  ~x\tUnary plus, unary minus, and bitwise NOT\n",
        "\n",
        "*  /  //  %\tMultiplication, division, floor division, and modulus\n",
        "\n",
        "Addition and subtraction\n",
        "\n",
        "<<  >>\tBitwise left and right shifts\n",
        "\n",
        "&\tBitwise AND\n",
        "\n",
        "^\tBitwise XOR\n",
        "\n",
        "|\tBitwise OR\n",
        "\n",
        "==  !=  >  >=  <  <=  is  is not  in  not in \tComparisons, identity, and membership operators\n",
        "\n",
        "not\tLogical NOT\n",
        "\n",
        "and\tAND\n",
        "\n",
        "or\tOR"
      ],
      "metadata": {
        "id": "LN8jCsJ3dYzv"
      }
    },
    {
      "cell_type": "code",
      "source": [
        "print((6 + 3) - (6 + 3))"
      ],
      "metadata": {
        "colab": {
          "base_uri": "https://localhost:8080/"
        },
        "id": "2lDt1BKWcfut",
        "outputId": "10033985-436f-4f69-c28b-336761a004f2"
      },
      "execution_count": null,
      "outputs": [
        {
          "output_type": "stream",
          "name": "stdout",
          "text": [
            "0\n"
          ]
        }
      ]
    }
  ]
}