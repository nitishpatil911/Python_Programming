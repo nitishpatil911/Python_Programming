{
  "cells": [
    {
      "cell_type": "markdown",
      "source": [
        "**File Handling**\n",
        "\n",
        "File handling is an important part of any web application.\n",
        "\n",
        "Python has several functions for creating, reading, updating, and deleting files."
      ],
      "metadata": {
        "id": "4NyW-vlf9P-Y"
      },
      "id": "4NyW-vlf9P-Y"
    },
    {
      "cell_type": "code",
      "source": [
        "f=open(\"Test_file.txt\",\"r\")\n",
        "print(f.read())"
      ],
      "metadata": {
        "colab": {
          "base_uri": "https://localhost:8080/"
        },
        "id": "YhubzTD29Z--",
        "outputId": "7f6aafff-803c-40b6-978e-628d97d5e4c1"
      },
      "id": "YhubzTD29Z--",
      "execution_count": null,
      "outputs": [
        {
          "output_type": "stream",
          "name": "stdout",
          "text": [
            "Hey Welocme to Hell!!!\n",
            "Are You enjyoing here. Lets Celebrate here!\n"
          ]
        }
      ]
    },
    {
      "cell_type": "code",
      "execution_count": null,
      "id": "baf4c871",
      "metadata": {
        "id": "baf4c871",
        "outputId": "f64163ba-f981-45ed-96d5-c1b15e25665d"
      },
      "outputs": [
        {
          "name": "stdout",
          "output_type": "stream",
          "text": [
            "Hey Welocme to Hell!!!\n",
            "Are You enjyoing here.\n"
          ]
        }
      ],
      "source": [
        "f=open(\"D:\\Testfile.txt\",\"r\")\n",
        "print(f.read())"
      ]
    },
    {
      "cell_type": "code",
      "execution_count": null,
      "id": "db245d63",
      "metadata": {
        "id": "db245d63",
        "outputId": "1ce1791e-eee3-4320-a8f0-86a56df5c40c"
      },
      "outputs": [
        {
          "name": "stdout",
          "output_type": "stream",
          "text": [
            "Hey Welocme\n"
          ]
        }
      ],
      "source": [
        "f=open(\"D:\\Testfile.txt\",\"r\")\n",
        "print(f.read(11))"
      ]
    },
    {
      "cell_type": "code",
      "execution_count": null,
      "id": "4551c258",
      "metadata": {
        "id": "4551c258",
        "outputId": "fbd4ad09-ec7f-45af-dc4c-e968c5ad78a1"
      },
      "outputs": [
        {
          "name": "stdout",
          "output_type": "stream",
          "text": [
            "Hey Welocme to Hell!!!\n",
            "\n"
          ]
        }
      ],
      "source": [
        "f=open(\"D:\\Testfile.txt\",\"r\")\n",
        "print(f.readline())"
      ]
    },
    {
      "cell_type": "code",
      "execution_count": null,
      "id": "c4eb1745",
      "metadata": {
        "id": "c4eb1745",
        "outputId": "ab974867-66ec-48d7-b26f-f2e11febd539"
      },
      "outputs": [
        {
          "name": "stdout",
          "output_type": "stream",
          "text": [
            "Hey Welocme to Hell!!!\n",
            "\n",
            "Are You enjyoing here.\n"
          ]
        }
      ],
      "source": [
        "f=open(\"D:\\Testfile.txt\",\"r\")\n",
        "print(f.readline())\n",
        "print(f.readline())"
      ]
    },
    {
      "cell_type": "code",
      "execution_count": null,
      "id": "bb7e80ec",
      "metadata": {
        "id": "bb7e80ec",
        "outputId": "1ca3b6d1-5dc6-4259-987e-26da4f571826"
      },
      "outputs": [
        {
          "name": "stdout",
          "output_type": "stream",
          "text": [
            "Hey Welocme to Hell!!!\n",
            "\n",
            "Are You enjyoing here.\n"
          ]
        }
      ],
      "source": [
        "f=open(\"D:\\Testfile.txt\",\"r\")\n",
        "for x in f:\n",
        "    print(x)"
      ]
    },
    {
      "cell_type": "code",
      "execution_count": null,
      "id": "334780f9",
      "metadata": {
        "id": "334780f9",
        "outputId": "552714ad-30d4-4db6-9ee4-0619d1bde261"
      },
      "outputs": [
        {
          "name": "stdout",
          "output_type": "stream",
          "text": [
            "Hey Welocme to Hell!!!\n",
            "\n"
          ]
        }
      ],
      "source": [
        "f=open(\"D:\\Testfile.txt\",\"r\")\n",
        "print(f.readline())\n",
        "f.close()"
      ]
    },
    {
      "cell_type": "code",
      "execution_count": null,
      "id": "9ce6b1d3",
      "metadata": {
        "id": "9ce6b1d3"
      },
      "outputs": [],
      "source": [
        "f = open(\"Test_file.txt\", \"a\")\n",
        "f.write(\"Now the file has more content!\")\n",
        "f.close()"
      ]
    },
    {
      "cell_type": "code",
      "execution_count": null,
      "id": "1109edcf",
      "metadata": {
        "id": "1109edcf",
        "outputId": "20725744-1422-4729-d028-a588950f5b99"
      },
      "outputs": [
        {
          "name": "stdout",
          "output_type": "stream",
          "text": [
            "Hey Welocme to Hell!!!\n",
            "Are You enjyoing here.Now the file has more content!Now the file has more content!\n"
          ]
        }
      ],
      "source": [
        "f=open(\"Test_file.txt\",\"r\")\n",
        "print(f.read())"
      ]
    },
    {
      "cell_type": "code",
      "execution_count": null,
      "id": "76bd762f",
      "metadata": {
        "id": "76bd762f"
      },
      "outputs": [],
      "source": [
        "f = open(\"Testfile1.txt\", \"w\")\n",
        "f.write(\"Woops! I have deleted the content!\")\n",
        "f.close()"
      ]
    },
    {
      "cell_type": "code",
      "execution_count": null,
      "id": "1a7e4cd8",
      "metadata": {
        "id": "1a7e4cd8",
        "outputId": "c6d85eaf-bcec-4047-8ae6-951b2b23fa1d"
      },
      "outputs": [
        {
          "name": "stdout",
          "output_type": "stream",
          "text": [
            "Woops! I have deleted the content!\n"
          ]
        }
      ],
      "source": [
        "f = open(\"Testfile1.txt\", \"r\")\n",
        "print(f.read())"
      ]
    },
    {
      "cell_type": "code",
      "execution_count": null,
      "id": "fadd7100",
      "metadata": {
        "id": "fadd7100"
      },
      "outputs": [],
      "source": [
        "#Create a file called \"myfile.txt\":\n",
        "\n",
        "f = open(\"myfile.txt\", \"x\")"
      ]
    },
    {
      "cell_type": "code",
      "execution_count": null,
      "id": "a7773a0e",
      "metadata": {
        "id": "a7773a0e"
      },
      "outputs": [],
      "source": [
        "#Create a new file if it does not exist:\n",
        "\n",
        "f = open(\"myfile1.txt\", \"w\")"
      ]
    },
    {
      "cell_type": "code",
      "execution_count": null,
      "id": "420312e6",
      "metadata": {
        "id": "420312e6"
      },
      "outputs": [],
      "source": [
        "import os\n",
        "os.remove(\"myfile.txt\")"
      ]
    },
    {
      "cell_type": "code",
      "execution_count": null,
      "id": "96880062",
      "metadata": {
        "id": "96880062"
      },
      "outputs": [],
      "source": [
        "import os\n",
        "if os.path.exists(\"myfile1.txt\"):\n",
        "    os.remove(\"myfile1.txt\")\n",
        "else:\n",
        "    print(\"The file does not exist\")"
      ]
    }
  ],
  "metadata": {
    "kernelspec": {
      "display_name": "Python 3 (ipykernel)",
      "language": "python",
      "name": "python3"
    },
    "language_info": {
      "codemirror_mode": {
        "name": "ipython",
        "version": 3
      },
      "file_extension": ".py",
      "mimetype": "text/x-python",
      "name": "python",
      "nbconvert_exporter": "python",
      "pygments_lexer": "ipython3",
      "version": "3.9.12"
    },
    "colab": {
      "provenance": []
    }
  },
  "nbformat": 4,
  "nbformat_minor": 5
}